{
 "cells": [
  {
   "cell_type": "markdown",
   "metadata": {},
   "source": [
    "Transition model from development to staging"
   ]
  },
  {
   "cell_type": "code",
   "execution_count": 1,
   "metadata": {},
   "outputs": [],
   "source": [
    "exp_name = \"fashion-mnist\""
   ]
  },
  {
   "cell_type": "code",
   "execution_count": 2,
   "metadata": {},
   "outputs": [
    {
     "data": {
      "text/plain": [
       "'http://localhost:5000'"
      ]
     },
     "execution_count": 2,
     "metadata": {},
     "output_type": "execute_result"
    }
   ],
   "source": [
    "import mlflow\n",
    "from mlflow.tracking import MlflowClient\n",
    "from pprint import pprint\n",
    "import os\n",
    "from mlflow.entities import ViewType\n",
    "from dotenv import load_dotenv\n",
    "load_dotenv()\n",
    "os.getenv(\"MLFLOW_TRACKING_URI\")\n"
   ]
  },
  {
   "cell_type": "code",
   "execution_count": 3,
   "metadata": {},
   "outputs": [
    {
     "data": {
      "text/plain": [
       "<Experiment: artifact_location='file:///C:/Users/SGU/Projects/MLFlow/fashion-mnist/artifacts/2', creation_time=1693562843111, experiment_id='2', last_update_time=1693562843111, lifecycle_stage='active', name='fashion-mnist', tags={}>"
      ]
     },
     "execution_count": 3,
     "metadata": {},
     "output_type": "execute_result"
    }
   ],
   "source": [
    "\n",
    "mlflow.set_tracking_uri(os.getenv(\"MLFLOW_TRACKING_URI\"))\n",
    "\n",
    "mlflow.set_experiment(experiment_name=exp_name)"
   ]
  },
  {
   "cell_type": "code",
   "execution_count": 4,
   "metadata": {},
   "outputs": [
    {
     "name": "stdout",
     "output_type": "stream",
     "text": [
      "{'info': {'artifact_uri': 'file:///C:/Users/SGU/Projects/MLFlow/fashion-mnist/artifacts/2/1282763d654c47509e9802b02c35a89f/artifacts', 'end_time': 1693563019120, 'experiment_id': '2', 'lifecycle_stage': 'active', 'run_id': '1282763d654c47509e9802b02c35a89f', 'run_name': 'CNN', 'run_uuid': '1282763d654c47509e9802b02c35a89f', 'start_time': 1693563006538, 'status': 'FINISHED', 'user_id': 'SGU'}, 'data': {'metrics': {'precision': 0.8757323726297757, 'recall': 0.87, 'f1': 0.8681048688024267}, 'params': {'model_name': 'CNN', 'lr': '0.001', 'batch_size': '100'}, 'tags': {'mlflow.user': 'SGU', 'mlflow.source.name': 'c:\\\\Users\\\\SGU\\\\Miniconda3\\\\envs\\\\part_segmentation_mmdetection\\\\lib\\\\site-packages\\\\ipykernel_launcher.py', 'mlflow.source.type': 'LOCAL', 'mlflow.runName': 'CNN', 'mlflow.log-model.history': '[{\"run_id\": \"1282763d654c47509e9802b02c35a89f\", \"artifact_path\": \"model\", \"utc_time_created\": \"2023-09-01 10:10:12.874883\", \"flavors\": {\"pytorch\": {\"model_data\": \"data\", \"pytorch_version\": \"1.12.1\", \"code\": null}, \"python_function\": {\"pickle_module_name\": \"mlflow.pytorch.pickle_module\", \"loader_module\": \"mlflow.pytorch\", \"python_version\": \"3.8.13\", \"data\": \"data\", \"env\": {\"conda\": \"conda.yaml\", \"virtualenv\": \"python_env.yaml\"}}}, \"model_uuid\": \"8e1c684ed5b94dfc8fb895b8a6e115d6\", \"mlflow_version\": \"2.6.0\"}]'}}, 'inputs': {'dataset_inputs': []}}\n"
     ]
    },
    {
     "data": {
      "text/plain": [
       "'1282763d654c47509e9802b02c35a89f'"
      ]
     },
     "execution_count": 4,
     "metadata": {},
     "output_type": "execute_result"
    }
   ],
   "source": [
    "exp = mlflow.search_experiments(filter_string=f\"name = '{exp_name}'\")\n",
    "\n",
    "runs = MlflowClient().search_runs(\n",
    "    experiment_ids=[exp[0].experiment_id],\n",
    "    run_view_type=ViewType.ACTIVE_ONLY,\n",
    "    max_results=1,\n",
    "    order_by=[\"metrics.f1 DESC\"]\n",
    ")\n",
    "best_run = runs[0].to_dictionary()\n",
    "best_run_id = best_run['info']['run_id']\n",
    "print(best_run)\n",
    "best_run_id"
   ]
  },
  {
   "cell_type": "code",
   "execution_count": 5,
   "metadata": {},
   "outputs": [
    {
     "data": {
      "text/plain": [
       "[<RegisteredModel: aliases={}, creation_timestamp=1693504416537, description='', last_updated_timestamp=1693563343131, latest_versions=[<ModelVersion: aliases=[], creation_timestamp=1693504416569, current_stage='Staging', description='', last_updated_timestamp=1693504492603, name='CNN', run_id='81770435ab5c409b9e6faa3a3a13c83f', run_link='', source='file:///C:/Users/SGU/Projects/MLFlow/fashion-mnist/artifacts/1/81770435ab5c409b9e6faa3a3a13c83f/artifacts/model', status='READY', status_message='', tags={}, user_id='', version='1'>,\n",
       "  <ModelVersion: aliases=[], creation_timestamp=1693563343131, current_stage='None', description='', last_updated_timestamp=1693563343131, name='CNN', run_id='e99a12f64e584c9993e5ab9cfe510734', run_link='', source='file:///C:/Users/SGU/Projects/MLFlow/fashion-mnist/artifacts/2/e99a12f64e584c9993e5ab9cfe510734/artifacts/model', status='READY', status_message='', tags={}, user_id='', version='3'>], name='CNN', tags={}>,\n",
       " <RegisteredModel: aliases={}, creation_timestamp=1693563426262, description='', last_updated_timestamp=1693563426323, latest_versions=[<ModelVersion: aliases=[], creation_timestamp=1693563426323, current_stage='None', description='', last_updated_timestamp=1693563426323, name='CNN3', run_id='bbe3ed1b652144a291718a0d383f2c39', run_link='', source='file:///C:/Users/SGU/Projects/MLFlow/fashion-mnist/artifacts/2/bbe3ed1b652144a291718a0d383f2c39/artifacts/model', status='READY', status_message='', tags={}, user_id='', version='1'>], name='CNN3', tags={}>,\n",
       " <RegisteredModel: aliases={}, creation_timestamp=1693504386363, description='', last_updated_timestamp=1693562970557, latest_versions=[<ModelVersion: aliases=[], creation_timestamp=1693562970557, current_stage='None', description='', last_updated_timestamp=1693562970557, name='MLP', run_id='16bd633f8c3a45aabedce909d690b720', run_link='', source='file:///C:/Users/SGU/Projects/MLFlow/fashion-mnist/artifacts/2/16bd633f8c3a45aabedce909d690b720/artifacts/model', status='READY', status_message='', tags={}, user_id='', version='2'>], name='MLP', tags={}>,\n",
       " <RegisteredModel: aliases={}, creation_timestamp=1693504330561, description='', last_updated_timestamp=1693562938303, latest_versions=[<ModelVersion: aliases=[], creation_timestamp=1693562938303, current_stage='None', description='', last_updated_timestamp=1693562938303, name='random forest', run_id='0162a9d2addf48f6a500e063783bfa4d', run_link='', source='file:///C:/Users/SGU/Projects/MLFlow/fashion-mnist/artifacts/2/0162a9d2addf48f6a500e063783bfa4d/artifacts/model', status='READY', status_message='', tags={}, user_id='', version='4'>], name='random forest', tags={}>]"
      ]
     },
     "execution_count": 5,
     "metadata": {},
     "output_type": "execute_result"
    }
   ],
   "source": [
    "client = MlflowClient()\n",
    "client.search_registered_models()"
   ]
  },
  {
   "cell_type": "code",
   "execution_count": 6,
   "metadata": {},
   "outputs": [
    {
     "name": "stdout",
     "output_type": "stream",
     "text": [
      "{   'aliases': [],\n",
      "    'creation_timestamp': 1693563019093,\n",
      "    'current_stage': 'None',\n",
      "    'description': '',\n",
      "    'last_updated_timestamp': 1693563019093,\n",
      "    'name': 'CNN',\n",
      "    'run_id': '1282763d654c47509e9802b02c35a89f',\n",
      "    'run_link': '',\n",
      "    'source': 'file:///C:/Users/SGU/Projects/MLFlow/fashion-mnist/artifacts/2/1282763d654c47509e9802b02c35a89f/artifacts/model',\n",
      "    'status': 'READY',\n",
      "    'status_message': '',\n",
      "    'tags': {},\n",
      "    'user_id': '',\n",
      "    'version': '2'}\n"
     ]
    },
    {
     "data": {
      "text/plain": [
       "[<ModelVersion: aliases=[], creation_timestamp=1693563019093, current_stage='None', description='', last_updated_timestamp=1693563019093, name='CNN', run_id='1282763d654c47509e9802b02c35a89f', run_link='', source='file:///C:/Users/SGU/Projects/MLFlow/fashion-mnist/artifacts/2/1282763d654c47509e9802b02c35a89f/artifacts/model', status='READY', status_message='', tags={}, user_id='', version='2'>]"
      ]
     },
     "execution_count": 6,
     "metadata": {},
     "output_type": "execute_result"
    }
   ],
   "source": [
    "client = MlflowClient()\n",
    "rm = client.search_model_versions(filter_string=f\"run_id='{best_run_id}'\", max_results=1)\n",
    "model_version = dict(rm[0])\n",
    "pprint(model_version, indent=4)\n",
    "name = model_version[\"name\"]\n",
    "version = model_version[\"version\"]\n",
    "rm"
   ]
  },
  {
   "cell_type": "code",
   "execution_count": 7,
   "metadata": {},
   "outputs": [
    {
     "data": {
      "text/plain": [
       "<ModelVersion: aliases=[], creation_timestamp=1693563019093, current_stage='Staging', description='', last_updated_timestamp=1693563578823, name='CNN', run_id='1282763d654c47509e9802b02c35a89f', run_link='', source='file:///C:/Users/SGU/Projects/MLFlow/fashion-mnist/artifacts/2/1282763d654c47509e9802b02c35a89f/artifacts/model', status='READY', status_message='', tags={}, user_id='', version='2'>"
      ]
     },
     "execution_count": 7,
     "metadata": {},
     "output_type": "execute_result"
    }
   ],
   "source": [
    "client.transition_model_version_stage(name=name,version=version,stage=\"Staging\")"
   ]
  },
  {
   "cell_type": "markdown",
   "metadata": {},
   "source": [
    "Serving model from model registry"
   ]
  },
  {
   "cell_type": "code",
   "execution_count": 8,
   "metadata": {},
   "outputs": [],
   "source": [
    "import pandas as pd\n",
    "test_csv = pd.read_csv(r\"data/fashion-mnist_test.csv\")\n",
    "X_test = test_csv.drop('label', axis=1)\n",
    "y_test = test_csv['label']\n"
   ]
  },
  {
   "cell_type": "code",
   "execution_count": 9,
   "metadata": {},
   "outputs": [
    {
     "name": "stderr",
     "output_type": "stream",
     "text": [
      "c:\\Users\\SGU\\Miniconda3\\envs\\part_segmentation_mmdetection\\lib\\site-packages\\tqdm\\auto.py:21: TqdmWarning: IProgress not found. Please update jupyter and ipywidgets. See https://ipywidgets.readthedocs.io/en/stable/user_install.html\n",
      "  from .autonotebook import tqdm as notebook_tqdm\n"
     ]
    },
    {
     "data": {
      "text/plain": [
       "(10000, 1, 28, 28)"
      ]
     },
     "execution_count": 9,
     "metadata": {},
     "output_type": "execute_result"
    }
   ],
   "source": [
    "import torch\n",
    "import numpy as np\n",
    "X_test_np = X_test.to_numpy()\n",
    "input = np.asarray(X_test_np).reshape(-1, 1, 28, 28).astype('float32')\n",
    "input.shape"
   ]
  },
  {
   "cell_type": "code",
   "execution_count": 13,
   "metadata": {},
   "outputs": [
    {
     "name": "stderr",
     "output_type": "stream",
     "text": [
      "c:\\Users\\SGU\\Miniconda3\\envs\\part_segmentation_mmdetection\\lib\\site-packages\\torch\\nn\\functional.py:1331: UserWarning: dropout2d: Received a 2-D input to dropout2d, which is deprecated and will result in an error in a future release. To retain the behavior and silence this warning, please use dropout instead. Note that dropout2d exists to provide channel-wise dropout on inputs with 2 spatial dimensions, a channel dimension, and an optional batch dimension (i.e. 3D or 4D inputs).\n",
      "  warnings.warn(warn_msg)\n"
     ]
    },
    {
     "data": {
      "text/plain": [
       "array([0, 1, 2, ..., 8, 8, 1], dtype=int64)"
      ]
     },
     "execution_count": 13,
     "metadata": {},
     "output_type": "execute_result"
    }
   ],
   "source": [
    "import mlflow.pyfunc\n",
    "\n",
    "stage = 'Staging'\n",
    "\n",
    "model = mlflow.pyfunc.load_model(\n",
    "    model_uri=f\"models:/{name}/{stage}\"\n",
    ")\n",
    "y_pred = model.predict(input)\n",
    "predicted = np.argmax(y_pred, 1)\n",
    "predicted"
   ]
  },
  {
   "cell_type": "code",
   "execution_count": 11,
   "metadata": {},
   "outputs": [
    {
     "data": {
      "text/plain": [
       "array([[888,   2,   5,  26,   4,   2,  60,   0,  13,   0],\n",
       "       [  2, 983,   0,   6,   1,   2,   6,   0,   0,   0],\n",
       "       [ 32,   2, 752,   7, 100,   0, 100,   0,   7,   0],\n",
       "       [ 44,  24,   1, 848,  43,   0,  40,   0,   0,   0],\n",
       "       [  1,   4,  46,  17, 864,   0,  66,   0,   2,   0],\n",
       "       [  0,   1,   0,   0,   0, 952,   0,  10,   2,  35],\n",
       "       [229,   6,  44,  14, 119,   0, 576,   0,  12,   0],\n",
       "       [  0,   0,   0,   0,   0,  74,   0, 719,   0, 207],\n",
       "       [  3,   3,   4,   4,   4,   5,   6,   1, 964,   6],\n",
       "       [  0,   0,   0,   0,   0,   1,   0,   2,   0, 997]], dtype=int64)"
      ]
     },
     "execution_count": 11,
     "metadata": {},
     "output_type": "execute_result"
    }
   ],
   "source": [
    "from sklearn.metrics import confusion_matrix\n",
    "cm = confusion_matrix(y_test, predicted)\n",
    "cm"
   ]
  },
  {
   "cell_type": "code",
   "execution_count": 12,
   "metadata": {},
   "outputs": [],
   "source": [
    "# #http://127.0.0.1:1234\n",
    "\n",
    "# import requests\n",
    "\n",
    "# inference_request = {\n",
    "#         \"dataframe_records\": input.tolist()\n",
    "# }\n",
    "# endpoint = \"http://127.0.0.1:1234/invocations\"\n",
    "# response = requests.post(endpoint, json=inference_request)\n",
    "# print(response)"
   ]
  }
 ],
 "metadata": {
  "kernelspec": {
   "display_name": "part_segmentation_mmdetection",
   "language": "python",
   "name": "python3"
  },
  "language_info": {
   "codemirror_mode": {
    "name": "ipython",
    "version": 3
   },
   "file_extension": ".py",
   "mimetype": "text/x-python",
   "name": "python",
   "nbconvert_exporter": "python",
   "pygments_lexer": "ipython3",
   "version": "3.8.13"
  },
  "orig_nbformat": 4
 },
 "nbformat": 4,
 "nbformat_minor": 2
}
